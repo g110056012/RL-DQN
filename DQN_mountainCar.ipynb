{
  "nbformat": 4,
  "nbformat_minor": 0,
  "metadata": {
    "colab": {
      "name": "DQN_mountainCar.ipynb",
      "provenance": [],
      "collapsed_sections": [],
      "authorship_tag": "ABX9TyNYjlLAjUX0fBcp7WgpTXG0",
      "include_colab_link": true
    },
    "kernelspec": {
      "name": "python3",
      "display_name": "Python 3"
    },
    "language_info": {
      "name": "python"
    },
    "accelerator": "GPU"
  },
  "cells": [
    {
      "cell_type": "markdown",
      "metadata": {
        "id": "view-in-github",
        "colab_type": "text"
      },
      "source": [
        "<a href=\"https://colab.research.google.com/github/g110056012/RL-DQN/blob/main/DQN_mountainCar.ipynb\" target=\"_parent\"><img src=\"https://colab.research.google.com/assets/colab-badge.svg\" alt=\"Open In Colab\"/></a>"
      ]
    },
    {
      "cell_type": "markdown",
      "source": [
        "安裝"
      ],
      "metadata": {
        "id": "WFcD5xoeE6bq"
      }
    },
    {
      "cell_type": "code",
      "execution_count": 2,
      "metadata": {
        "id": "izT6DRsVL2vD",
        "colab": {
          "base_uri": "https://localhost:8080/"
        },
        "outputId": "fd05b64c-8900-4726-90dd-d0594d6d6eb1"
      },
      "outputs": [
        {
          "output_type": "stream",
          "name": "stdout",
          "text": [
            "Reading package lists... Done\n",
            "Building dependency tree       \n",
            "Reading state information... Done\n",
            "The following package was automatically installed and is no longer required:\n",
            "  libnvidia-common-460\n",
            "Use 'apt autoremove' to remove it.\n",
            "The following NEW packages will be installed:\n",
            "  xvfb\n",
            "0 upgraded, 1 newly installed, 0 to remove and 45 not upgraded.\n",
            "Need to get 784 kB of archives.\n",
            "After this operation, 2,271 kB of additional disk space will be used.\n",
            "Get:1 http://archive.ubuntu.com/ubuntu bionic-updates/universe amd64 xvfb amd64 2:1.19.6-1ubuntu4.10 [784 kB]\n",
            "Fetched 784 kB in 0s (2,302 kB/s)\n",
            "Selecting previously unselected package xvfb.\n",
            "(Reading database ... 155632 files and directories currently installed.)\n",
            "Preparing to unpack .../xvfb_2%3a1.19.6-1ubuntu4.10_amd64.deb ...\n",
            "Unpacking xvfb (2:1.19.6-1ubuntu4.10) ...\n",
            "Setting up xvfb (2:1.19.6-1ubuntu4.10) ...\n",
            "Processing triggers for man-db (2.8.3-2ubuntu0.1) ...\n",
            "Looking in indexes: https://pypi.org/simple, https://us-python.pkg.dev/colab-wheels/public/simple/\n",
            "Collecting gym==0.21\n",
            "  Downloading gym-0.21.0.tar.gz (1.5 MB)\n",
            "\u001b[K     |████████████████████████████████| 1.5 MB 4.9 MB/s \n",
            "\u001b[?25hRequirement already satisfied: gym[box2d] in /usr/local/lib/python3.7/dist-packages (0.17.3)\n",
            "Collecting pytorch-lightning==1.6.0\n",
            "  Downloading pytorch_lightning-1.6.0-py3-none-any.whl (582 kB)\n",
            "\u001b[K     |████████████████████████████████| 582 kB 63.2 MB/s \n",
            "\u001b[?25hCollecting pyvirtualdisplay\n",
            "  Downloading PyVirtualDisplay-3.0-py3-none-any.whl (15 kB)\n",
            "Requirement already satisfied: numpy>=1.18.0 in /usr/local/lib/python3.7/dist-packages (from gym==0.21) (1.21.6)\n",
            "Requirement already satisfied: cloudpickle>=1.2.0 in /usr/local/lib/python3.7/dist-packages (from gym==0.21) (1.3.0)\n",
            "Requirement already satisfied: importlib_metadata>=4.8.1 in /usr/local/lib/python3.7/dist-packages (from gym==0.21) (4.11.4)\n",
            "Requirement already satisfied: typing-extensions>=4.0.0 in /usr/local/lib/python3.7/dist-packages (from pytorch-lightning==1.6.0) (4.2.0)\n",
            "Requirement already satisfied: packaging>=17.0 in /usr/local/lib/python3.7/dist-packages (from pytorch-lightning==1.6.0) (21.3)\n",
            "Collecting PyYAML>=5.4\n",
            "  Downloading PyYAML-6.0-cp37-cp37m-manylinux_2_5_x86_64.manylinux1_x86_64.manylinux_2_12_x86_64.manylinux2010_x86_64.whl (596 kB)\n",
            "\u001b[K     |████████████████████████████████| 596 kB 62.3 MB/s \n",
            "\u001b[?25hRequirement already satisfied: tensorboard>=2.2.0 in /usr/local/lib/python3.7/dist-packages (from pytorch-lightning==1.6.0) (2.8.0)\n",
            "Collecting pyDeprecate<0.4.0,>=0.3.1\n",
            "  Downloading pyDeprecate-0.3.2-py3-none-any.whl (10 kB)\n",
            "Requirement already satisfied: tqdm>=4.41.0 in /usr/local/lib/python3.7/dist-packages (from pytorch-lightning==1.6.0) (4.64.0)\n",
            "Requirement already satisfied: torch>=1.8.* in /usr/local/lib/python3.7/dist-packages (from pytorch-lightning==1.6.0) (1.11.0+cu113)\n",
            "Collecting torchmetrics>=0.4.1\n",
            "  Downloading torchmetrics-0.9.0-py3-none-any.whl (418 kB)\n",
            "\u001b[K     |████████████████████████████████| 418 kB 70.0 MB/s \n",
            "\u001b[?25hCollecting fsspec[http]!=2021.06.0,>=2021.05.0\n",
            "  Downloading fsspec-2022.5.0-py3-none-any.whl (140 kB)\n",
            "\u001b[K     |████████████████████████████████| 140 kB 68.2 MB/s \n",
            "\u001b[?25hCollecting aiohttp\n",
            "  Downloading aiohttp-3.8.1-cp37-cp37m-manylinux_2_5_x86_64.manylinux1_x86_64.manylinux_2_12_x86_64.manylinux2010_x86_64.whl (1.1 MB)\n",
            "\u001b[K     |████████████████████████████████| 1.1 MB 43.0 MB/s \n",
            "\u001b[?25hRequirement already satisfied: requests in /usr/local/lib/python3.7/dist-packages (from fsspec[http]!=2021.06.0,>=2021.05.0->pytorch-lightning==1.6.0) (2.23.0)\n",
            "Requirement already satisfied: zipp>=0.5 in /usr/local/lib/python3.7/dist-packages (from importlib_metadata>=4.8.1->gym==0.21) (3.8.0)\n",
            "Requirement already satisfied: pyparsing!=3.0.5,>=2.0.2 in /usr/local/lib/python3.7/dist-packages (from packaging>=17.0->pytorch-lightning==1.6.0) (3.0.9)\n",
            "Requirement already satisfied: google-auth-oauthlib<0.5,>=0.4.1 in /usr/local/lib/python3.7/dist-packages (from tensorboard>=2.2.0->pytorch-lightning==1.6.0) (0.4.6)\n",
            "Requirement already satisfied: werkzeug>=0.11.15 in /usr/local/lib/python3.7/dist-packages (from tensorboard>=2.2.0->pytorch-lightning==1.6.0) (1.0.1)\n",
            "Requirement already satisfied: tensorboard-data-server<0.7.0,>=0.6.0 in /usr/local/lib/python3.7/dist-packages (from tensorboard>=2.2.0->pytorch-lightning==1.6.0) (0.6.1)\n",
            "Requirement already satisfied: wheel>=0.26 in /usr/local/lib/python3.7/dist-packages (from tensorboard>=2.2.0->pytorch-lightning==1.6.0) (0.37.1)\n",
            "Requirement already satisfied: absl-py>=0.4 in /usr/local/lib/python3.7/dist-packages (from tensorboard>=2.2.0->pytorch-lightning==1.6.0) (1.0.0)\n",
            "Requirement already satisfied: tensorboard-plugin-wit>=1.6.0 in /usr/local/lib/python3.7/dist-packages (from tensorboard>=2.2.0->pytorch-lightning==1.6.0) (1.8.1)\n",
            "Requirement already satisfied: google-auth<3,>=1.6.3 in /usr/local/lib/python3.7/dist-packages (from tensorboard>=2.2.0->pytorch-lightning==1.6.0) (1.35.0)\n",
            "Requirement already satisfied: protobuf>=3.6.0 in /usr/local/lib/python3.7/dist-packages (from tensorboard>=2.2.0->pytorch-lightning==1.6.0) (3.17.3)\n",
            "Requirement already satisfied: setuptools>=41.0.0 in /usr/local/lib/python3.7/dist-packages (from tensorboard>=2.2.0->pytorch-lightning==1.6.0) (57.4.0)\n",
            "Requirement already satisfied: markdown>=2.6.8 in /usr/local/lib/python3.7/dist-packages (from tensorboard>=2.2.0->pytorch-lightning==1.6.0) (3.3.7)\n",
            "Requirement already satisfied: grpcio>=1.24.3 in /usr/local/lib/python3.7/dist-packages (from tensorboard>=2.2.0->pytorch-lightning==1.6.0) (1.46.3)\n",
            "Requirement already satisfied: six in /usr/local/lib/python3.7/dist-packages (from absl-py>=0.4->tensorboard>=2.2.0->pytorch-lightning==1.6.0) (1.15.0)\n",
            "Requirement already satisfied: rsa<5,>=3.1.4 in /usr/local/lib/python3.7/dist-packages (from google-auth<3,>=1.6.3->tensorboard>=2.2.0->pytorch-lightning==1.6.0) (4.8)\n",
            "Requirement already satisfied: pyasn1-modules>=0.2.1 in /usr/local/lib/python3.7/dist-packages (from google-auth<3,>=1.6.3->tensorboard>=2.2.0->pytorch-lightning==1.6.0) (0.2.8)\n",
            "Requirement already satisfied: cachetools<5.0,>=2.0.0 in /usr/local/lib/python3.7/dist-packages (from google-auth<3,>=1.6.3->tensorboard>=2.2.0->pytorch-lightning==1.6.0) (4.2.4)\n",
            "Requirement already satisfied: requests-oauthlib>=0.7.0 in /usr/local/lib/python3.7/dist-packages (from google-auth-oauthlib<0.5,>=0.4.1->tensorboard>=2.2.0->pytorch-lightning==1.6.0) (1.3.1)\n",
            "Requirement already satisfied: pyasn1<0.5.0,>=0.4.6 in /usr/local/lib/python3.7/dist-packages (from pyasn1-modules>=0.2.1->google-auth<3,>=1.6.3->tensorboard>=2.2.0->pytorch-lightning==1.6.0) (0.4.8)\n",
            "Requirement already satisfied: certifi>=2017.4.17 in /usr/local/lib/python3.7/dist-packages (from requests->fsspec[http]!=2021.06.0,>=2021.05.0->pytorch-lightning==1.6.0) (2022.5.18.1)\n",
            "Requirement already satisfied: urllib3!=1.25.0,!=1.25.1,<1.26,>=1.21.1 in /usr/local/lib/python3.7/dist-packages (from requests->fsspec[http]!=2021.06.0,>=2021.05.0->pytorch-lightning==1.6.0) (1.24.3)\n",
            "Requirement already satisfied: chardet<4,>=3.0.2 in /usr/local/lib/python3.7/dist-packages (from requests->fsspec[http]!=2021.06.0,>=2021.05.0->pytorch-lightning==1.6.0) (3.0.4)\n",
            "Requirement already satisfied: idna<3,>=2.5 in /usr/local/lib/python3.7/dist-packages (from requests->fsspec[http]!=2021.06.0,>=2021.05.0->pytorch-lightning==1.6.0) (2.10)\n",
            "Requirement already satisfied: oauthlib>=3.0.0 in /usr/local/lib/python3.7/dist-packages (from requests-oauthlib>=0.7.0->google-auth-oauthlib<0.5,>=0.4.1->tensorboard>=2.2.0->pytorch-lightning==1.6.0) (3.2.0)\n",
            "Collecting yarl<2.0,>=1.0\n",
            "  Downloading yarl-1.7.2-cp37-cp37m-manylinux_2_5_x86_64.manylinux1_x86_64.manylinux_2_12_x86_64.manylinux2010_x86_64.whl (271 kB)\n",
            "\u001b[K     |████████████████████████████████| 271 kB 79.5 MB/s \n",
            "\u001b[?25hCollecting aiosignal>=1.1.2\n",
            "  Downloading aiosignal-1.2.0-py3-none-any.whl (8.2 kB)\n",
            "Collecting frozenlist>=1.1.1\n",
            "  Downloading frozenlist-1.3.0-cp37-cp37m-manylinux_2_5_x86_64.manylinux1_x86_64.manylinux_2_17_x86_64.manylinux2014_x86_64.whl (144 kB)\n",
            "\u001b[K     |████████████████████████████████| 144 kB 58.3 MB/s \n",
            "\u001b[?25hCollecting asynctest==0.13.0\n",
            "  Downloading asynctest-0.13.0-py3-none-any.whl (26 kB)\n",
            "Requirement already satisfied: charset-normalizer<3.0,>=2.0 in /usr/local/lib/python3.7/dist-packages (from aiohttp->fsspec[http]!=2021.06.0,>=2021.05.0->pytorch-lightning==1.6.0) (2.0.12)\n",
            "Requirement already satisfied: attrs>=17.3.0 in /usr/local/lib/python3.7/dist-packages (from aiohttp->fsspec[http]!=2021.06.0,>=2021.05.0->pytorch-lightning==1.6.0) (21.4.0)\n",
            "Collecting multidict<7.0,>=4.5\n",
            "  Downloading multidict-6.0.2-cp37-cp37m-manylinux_2_17_x86_64.manylinux2014_x86_64.whl (94 kB)\n",
            "\u001b[K     |████████████████████████████████| 94 kB 4.3 MB/s \n",
            "\u001b[?25hCollecting async-timeout<5.0,>=4.0.0a3\n",
            "  Downloading async_timeout-4.0.2-py3-none-any.whl (5.8 kB)\n",
            "Collecting gym[box2d]\n",
            "  Downloading gym-0.24.1.tar.gz (696 kB)\n",
            "\u001b[K     |████████████████████████████████| 696 kB 65.7 MB/s \n",
            "\u001b[?25h  Installing build dependencies ... \u001b[?25l\u001b[?25hdone\n",
            "  Getting requirements to build wheel ... \u001b[?25l\u001b[?25hdone\n",
            "    Preparing wheel metadata ... \u001b[?25l\u001b[?25hdone\n",
            "  Downloading gym-0.24.0.tar.gz (694 kB)\n",
            "\u001b[K     |████████████████████████████████| 694 kB 60.3 MB/s \n",
            "\u001b[?25h  Installing build dependencies ... \u001b[?25l\u001b[?25hdone\n",
            "  Getting requirements to build wheel ... \u001b[?25l\u001b[?25hdone\n",
            "    Preparing wheel metadata ... \u001b[?25l\u001b[?25hdone\n",
            "  Downloading gym-0.23.1.tar.gz (626 kB)\n",
            "\u001b[K     |████████████████████████████████| 626 kB 66.1 MB/s \n",
            "\u001b[?25h  Installing build dependencies ... \u001b[?25l\u001b[?25hdone\n",
            "  Getting requirements to build wheel ... \u001b[?25l\u001b[?25hdone\n",
            "    Preparing wheel metadata ... \u001b[?25l\u001b[?25hdone\n",
            "  Downloading gym-0.23.0.tar.gz (624 kB)\n",
            "\u001b[K     |████████████████████████████████| 624 kB 59.0 MB/s \n",
            "\u001b[?25h  Installing build dependencies ... \u001b[?25l\u001b[?25hdone\n",
            "  Getting requirements to build wheel ... \u001b[?25l\u001b[?25hdone\n",
            "    Preparing wheel metadata ... \u001b[?25l\u001b[?25hdone\n",
            "  Downloading gym-0.22.0.tar.gz (631 kB)\n",
            "\u001b[K     |████████████████████████████████| 631 kB 64.8 MB/s \n",
            "\u001b[?25h  Installing build dependencies ... \u001b[?25l\u001b[?25hdone\n",
            "  Getting requirements to build wheel ... \u001b[?25l\u001b[?25hdone\n",
            "    Preparing wheel metadata ... \u001b[?25l\u001b[?25hdone\n",
            "Collecting box2d-py==2.3.5\n",
            "  Downloading box2d_py-2.3.5-cp37-cp37m-manylinux1_x86_64.whl (2.1 MB)\n",
            "\u001b[K     |████████████████████████████████| 2.1 MB 65.1 MB/s \n",
            "\u001b[?25hRequirement already satisfied: pyglet>=1.4.0 in /usr/local/lib/python3.7/dist-packages (from gym==0.21) (1.5.0)\n",
            "Requirement already satisfied: future in /usr/local/lib/python3.7/dist-packages (from pyglet>=1.4.0->gym==0.21) (0.16.0)\n",
            "Building wheels for collected packages: gym\n",
            "  Building wheel for gym (setup.py) ... \u001b[?25l\u001b[?25hdone\n",
            "  Created wheel for gym: filename=gym-0.21.0-py3-none-any.whl size=1616822 sha256=46b7833caa09683ef3319461d2de3f05398eeaa74d6adfbbff6a75c69b4fb2b7\n",
            "  Stored in directory: /root/.cache/pip/wheels/76/ee/9c/36bfe3e079df99acf5ae57f4e3464ff2771b34447d6d2f2148\n",
            "Successfully built gym\n",
            "Installing collected packages: multidict, frozenlist, yarl, asynctest, async-timeout, aiosignal, fsspec, aiohttp, torchmetrics, PyYAML, pyDeprecate, gym, box2d-py, pyvirtualdisplay, pytorch-lightning\n",
            "  Attempting uninstall: PyYAML\n",
            "    Found existing installation: PyYAML 3.13\n",
            "    Uninstalling PyYAML-3.13:\n",
            "      Successfully uninstalled PyYAML-3.13\n",
            "  Attempting uninstall: gym\n",
            "    Found existing installation: gym 0.17.3\n",
            "    Uninstalling gym-0.17.3:\n",
            "      Successfully uninstalled gym-0.17.3\n",
            "Successfully installed PyYAML-6.0 aiohttp-3.8.1 aiosignal-1.2.0 async-timeout-4.0.2 asynctest-0.13.0 box2d-py-2.3.5 frozenlist-1.3.0 fsspec-2022.5.0 gym-0.21.0 multidict-6.0.2 pyDeprecate-0.3.2 pytorch-lightning-1.6.0 pyvirtualdisplay-3.0 torchmetrics-0.9.0 yarl-1.7.2\n"
          ]
        }
      ],
      "source": [
        "!apt-get install  -y xvfb\n",
        "\n",
        "!pip install  gym==0.21 gym[box2d] pytorch-lightning==1.6.0 pyvirtualdisplay\n",
        "# !pip install  https://github.com/PyTorchLightning/pytorch-lightning/archive/refs/heads/release/1.5.x.zip"
      ]
    },
    {
      "cell_type": "markdown",
      "source": [
        "Setup virtual display"
      ],
      "metadata": {
        "id": "1zty_HfxE2dz"
      }
    },
    {
      "cell_type": "code",
      "source": [
        "from pyvirtualdisplay import Display\n",
        "Display(visible=False, size=(1400, 900)).start()"
      ],
      "metadata": {
        "colab": {
          "base_uri": "https://localhost:8080/"
        },
        "id": "cY538wn5E0l6",
        "outputId": "8ef55879-d9c8-4e23-fed0-f25e7e0dd359"
      },
      "execution_count": 19,
      "outputs": [
        {
          "output_type": "execute_result",
          "data": {
            "text/plain": [
              "<pyvirtualdisplay.display.Display at 0x7f90e159edd0>"
            ]
          },
          "metadata": {},
          "execution_count": 19
        }
      ]
    },
    {
      "cell_type": "code",
      "source": [
        "import copy\n",
        "import gym\n",
        "import torch\n",
        "import random\n",
        "\n",
        "import numpy as np\n",
        "import torch.nn.functional as F\n",
        "\n",
        "from collections import deque, namedtuple\n",
        "from IPython.display import HTML\n",
        "from base64 import b64encode\n",
        "\n",
        "from torch import Tensor, nn\n",
        "from torch.utils.data import DataLoader\n",
        "from torch.utils.data.dataset import IterableDataset\n",
        "from torch.optim import AdamW\n",
        "\n",
        "from pytorch_lightning import LightningModule,Trainer\n",
        "\n",
        "from gym.wrappers import RecordVideo, RecordEpisodeStatistics, TimeLimit\n",
        "\n",
        "from pytorch_lightning.callbacks import EarlyStopping\n",
        "\n",
        "\n",
        "\n",
        "\n",
        "device = 'cuda:0' if torch.cuda.is_available() else 'cpu'\n",
        "num_gpus = torch.cuda.device_count()"
      ],
      "metadata": {
        "id": "MCGaEV7bFM9s"
      },
      "execution_count": 22,
      "outputs": []
    },
    {
      "cell_type": "code",
      "source": [
        "def display_video(episode=0):\n",
        "  video_file = open(f'/content/videos/rl-video-episode-{episode}.mp4', \"r+b\").read()\n",
        "  video_url = f\"data:video/mp4;base64,{b64encode(video_file).decode()}\"\n",
        "  return HTML(f\"<video width=600 controls><source src='{video_url}'></video>\")"
      ],
      "metadata": {
        "id": "16iAgW1MFWJm"
      },
      "execution_count": 5,
      "outputs": []
    },
    {
      "cell_type": "markdown",
      "source": [
        "Create the Deep Q-Network"
      ],
      "metadata": {
        "id": "eVVRRF0AFrE5"
      }
    },
    {
      "cell_type": "code",
      "source": [
        "class DQN(nn.Module):\n",
        "\n",
        "  def __init__(self,hidden_size, obs_size, n_actions):\n",
        "      super().__init__()\n",
        "      self.net=nn.Sequential(\n",
        "        nn.Linear(obs_size, hidden_size),\n",
        "        nn.ReLU(),\n",
        "        nn.Linear(hidden_size, hidden_size),\n",
        "        nn.ReLU(),\n",
        "        nn.Linear(hidden_size, n_actions)\n",
        "      )\n",
        "  \n",
        "  def forward(self,x):\n",
        "    return self.net(x.float())\n",
        "\n",
        "\n",
        "  "
      ],
      "metadata": {
        "id": "7otHBPocFrgG"
      },
      "execution_count": 6,
      "outputs": []
    },
    {
      "cell_type": "markdown",
      "source": [
        "Create the policy"
      ],
      "metadata": {
        "id": "WShtFeJeF1ua"
      }
    },
    {
      "cell_type": "code",
      "source": [
        "def epsilon_greedy(state, env, net, epsilon=0.1):\n",
        "  if np.random.random() < epsilon:\n",
        "    action = env.action_space.sample()\n",
        "  else: \n",
        "   state= torch.tensor([state]).to(device) \n",
        "   q_values = net(state)  \n",
        "   _, action =torch.max(q_values, dim=1)\n",
        "   action = int(action.item()) \n",
        "  return action  "
      ],
      "metadata": {
        "id": "sxC_IcN8FxA3"
      },
      "execution_count": 7,
      "outputs": []
    },
    {
      "cell_type": "markdown",
      "source": [
        "Create the replay buffer"
      ],
      "metadata": {
        "id": "3pP_nu01F5WG"
      }
    },
    {
      "cell_type": "code",
      "source": [
        "class ReplayBuffer:\n",
        "\n",
        "  def __init__(self, capacity):\n",
        "    self.buffer= deque(maxlen=capacity)\n",
        "  \n",
        "  def __len__(self):\n",
        "    return len(self.buffer)\n",
        "\n",
        "  def append(self, experience):\n",
        "    self.buffer.append(experience) \n",
        "\n",
        "  def sample(self,batch_size):\n",
        "    return random.sample(self.buffer,batch_size) "
      ],
      "metadata": {
        "id": "XDGscjuFF-_h"
      },
      "execution_count": 8,
      "outputs": []
    },
    {
      "cell_type": "code",
      "source": [
        "class RLDataset(IterableDataset):\n",
        "\n",
        "  def __init__(self, buffer, sample_size=200):\n",
        "     self.buffer = buffer\n",
        "     self.sample_size = sample_size\n",
        "    \n",
        "  def __iter__(self):\n",
        "    for experience in self.buffer.sample(self.sample_size):\n",
        "      yield experience"
      ],
      "metadata": {
        "id": "ymxb5UttGBFO"
      },
      "execution_count": 9,
      "outputs": []
    },
    {
      "cell_type": "markdown",
      "source": [
        "Create the environment"
      ],
      "metadata": {
        "id": "eYRVjOqaGEpq"
      }
    },
    {
      "cell_type": "code",
      "source": [
        "#(初始環境互動)\n",
        "import gym\n",
        "env = gym.make('MountainCar-v0')\n",
        "# 初始化环境\n",
        "initial_state = env.reset()\n",
        "print(initial_state)\n",
        "# 随机选择一个与环境交互\n",
        "random_action = env.action_space.sample()\n",
        "print(random_action)\n",
        "observation, reward, done, info = env.step(random_action)\n",
        "print(observation, reward)\n",
        "#使用隨機策略控制\n",
        "import gym\n",
        "env = gym.make('MountainCar-v0')\n",
        "# 初始化环境\n",
        "initial_state = env.reset()\n",
        "print(initial_state)\n",
        "# 随机选择一个与环境交互\n",
        "random_action = env.action_space.sample()\n",
        "print(random_action)\n",
        "observation, reward, done, info = env.step(random_action)\n",
        "print(observation, reward)"
      ],
      "metadata": {
        "colab": {
          "base_uri": "https://localhost:8080/"
        },
        "id": "oBN_84oQTs4y",
        "outputId": "9a7fa359-0e42-489d-f145-9febb62b5bd6"
      },
      "execution_count": 16,
      "outputs": [
        {
          "output_type": "stream",
          "name": "stdout",
          "text": [
            "[-0.43348986  0.        ]\n",
            "2\n",
            "[-4.3315747e-01  3.3238422e-04] -1.0\n",
            "[-0.5389935  0.       ]\n",
            "1\n",
            "[-5.3887808e-01  1.1541928e-04] -1.0\n"
          ]
        }
      ]
    },
    {
      "cell_type": "code",
      "source": [
        "def create_environment(name):\n",
        "  env=gym.make(name)\n",
        "  env=TimeLimit(env, max_episode_steps=400)\n",
        "  record_interval=100\n",
        "  env=RecordVideo(env, video_folder='./videos',episode_trigger=lambda x: x% record_interval==0)\n",
        "  env=RecordEpisodeStatistics(env)\n",
        "  return env"
      ],
      "metadata": {
        "id": "8AvcGHnqUyhy"
      },
      "execution_count": 17,
      "outputs": []
    },
    {
      "cell_type": "code",
      "source": [
        "env=create_environment('MountainCar-v0')\n",
        "env.reset()\n",
        "#testing\n",
        "env.observation_space.sample()\n",
        "env.action_space.sample()\n",
        "print(\"action_space_n=\",env.action_space.n)\n",
        "\n",
        "import matplotlib.pyplot as plt\n",
        "plt.imshow(env.render(mode='rgb_array'))"
      ],
      "metadata": {
        "colab": {
          "base_uri": "https://localhost:8080/",
          "height": 304
        },
        "id": "k1wgqedsU1_i",
        "outputId": "17ca861e-27a5-46f1-c7bc-55a28af893b9"
      },
      "execution_count": 23,
      "outputs": [
        {
          "output_type": "stream",
          "name": "stdout",
          "text": [
            "action_space_n= 3\n"
          ]
        },
        {
          "output_type": "execute_result",
          "data": {
            "text/plain": [
              "<matplotlib.image.AxesImage at 0x7f90e09d9c10>"
            ]
          },
          "metadata": {},
          "execution_count": 23
        },
        {
          "output_type": "display_data",
          "data": {
            "text/plain": [
              "<Figure size 432x288 with 1 Axes>"
            ],
            "image/png": "[encoded data removed]"
          },
          "metadata": {
            "needs_background": "light"
          }
        }
      ]
    },
    {
      "cell_type": "code",
      "source": [
        ""
      ],
      "metadata": {
        "id": "HTk8nDS1U5Py"
      },
      "execution_count": null,
      "outputs": []
    },
    {
      "cell_type": "markdown",
      "source": [
        "Create the test/sampling function"
      ],
      "metadata": {
        "id": "-Vc9EIRyVd9o"
      }
    },
    {
      "cell_type": "code",
      "source": [
        "purge=1\n",
        "if purge:\n",
        "  !rm -r /content/lightning_logs/\n",
        "  !rm -r /content/videos/"
      ],
      "metadata": {
        "colab": {
          "base_uri": "https://localhost:8080/"
        },
        "id": "78SsYhjTVeus",
        "outputId": "de96cd4b-60e7-4e93-89e7-7e428aaa41bd"
      },
      "execution_count": 24,
      "outputs": [
        {
          "output_type": "stream",
          "name": "stdout",
          "text": [
            "rm: cannot remove '/content/lightning_logs/': No such file or directory\n"
          ]
        }
      ]
    },
    {
      "cell_type": "code",
      "source": [
        "env2=create_environment('MountainCar-v0')\n",
        "epochs=2\n",
        "for episode in range(epochs):\n",
        "  env2.reset()\n",
        "  print('*',end=\"\")\n",
        "  done = False\n",
        "  while not done:\n",
        "    action=env2.action_space.sample()\n",
        "    _,_,done,_, =env2.step(action)"
      ],
      "metadata": {
        "colab": {
          "base_uri": "https://localhost:8080/"
        },
        "id": "BsWOYvQeVfvF",
        "outputId": "0a806f03-fadb-4abe-b7ba-a36eac03a05e"
      },
      "execution_count": 25,
      "outputs": [
        {
          "output_type": "stream",
          "name": "stdout",
          "text": [
            "**"
          ]
        }
      ]
    },
    {
      "cell_type": "code",
      "source": [
        "display_video(episode=0)\n"
      ],
      "metadata": {
        "colab": {
          "base_uri": "https://localhost:8080/",
          "height": 421
        },
        "id": "-uEVyXOqVybr",
        "outputId": "88ef6886-1963-4d0d-ae46-cf0d7ccba10f"
      },
      "execution_count": 26,
      "outputs": [
        {
          "output_type": "execute_result",
          "data": {
            "text/plain": [
              "<IPython.core.display.HTML object>"
            ],
            "text/html": [
              "<video width=600 controls><source src='data:video/mp4;base64,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'></video>"
            ]
          },
          "metadata": {},
          "execution_count": 26
        }
      ]
    },
    {
      "cell_type": "code",
      "source": [
        ""
      ],
      "metadata": {
        "id": "Z7_CDetLVyvn"
      },
      "execution_count": null,
      "outputs": []
    },
    {
      "cell_type": "markdown",
      "source": [
        "Create the Deep Q-Learning algorithm"
      ],
      "metadata": {
        "id": "T_DQ4CVUWNmu"
      }
    },
    {
      "cell_type": "code",
      "source": [
        "class DeepQLearning(LightningModule):\n",
        "\n",
        "  #initialize\n",
        "  def __init__(self, env_name, policy=epsilon_greedy, capacity=100_000, batch_size=256,lr=1e-3, \n",
        "          hidden_size=128,gamma=0.99,loss_fn=F.smooth_l1_loss, optim=AdamW, \n",
        "          eps_start=1.0,eps_end=0.15,eps_last_episode=100,samples_per_epoch=10_000,sync_rate=10):\n",
        "    \n",
        "    super().__init__()\n",
        "    self.env=create_environment(env_name)\n",
        "\n",
        "    obs_size= self.env.observation_space.shape[0]\n",
        "    n_actions=self.env.action_space.n\n",
        "\n",
        "    self.q_net=DQN(hidden_size,obs_size,n_actions)\n",
        "\n",
        "    self.target_q_net= copy.deepcopy(self.q_net)\n",
        "\n",
        "    self.policy =policy\n",
        "    self.buffer=ReplayBuffer(capacity=capacity)\n",
        "    self.save_hyperparameters()\n",
        "\n",
        "    while len(self.buffer)<self.hparams.samples_per_epoch:\n",
        "      print(f\"{len(self.buffer)} samples in expereience buffer. Filling ...\")\n",
        "      self.play_episode(epsilon=self.hparams.eps_start)\n",
        "\n",
        "  @torch.no_grad()\n",
        "  def play_episode(self, policy=None, epsilon=0.):\n",
        "    state= self.env.reset()\n",
        "    done=False\n",
        "      \n",
        "    while not done:\n",
        "      if policy:\n",
        "        action=policy(state, self.env, self.q_net,epsilon=epsilon)\n",
        "      else:\n",
        "        action=self.env.action_space.sample()\n",
        "      \n",
        "      next_state, reward, done, info=self.env.step(action)\n",
        "      exp = (state, action, reward,done,next_state)\n",
        "      self.buffer.append(exp)\n",
        "      state=next_state\n",
        "\n",
        "  #Forward path\n",
        "  def forward(self, x):\n",
        "    return self.q_net(x)\n",
        "\n",
        "  #Config optimumizer\n",
        "  def configure_optimizers(self):\n",
        "    q_net_optimizer=self.hparams.optim(self.q_net.parameters(),lr=self.hparams.lr)\n",
        "    return [q_net_optimizer]\n",
        "\n",
        "  #prepare training state using data loader\n",
        "  def train_dataloader(self):\n",
        "    dataset=RLDataset(self.buffer, self.hparams.samples_per_epoch)\n",
        "    dataloader=DataLoader(dataset=dataset,batch_size=self.hparams.batch_size)\n",
        "    return dataloader\n",
        "\n",
        "  # training step\n",
        "  def training_step(self,batch,batch_idx):\n",
        "    states, actions,rewards,dones, next_states = batch\n",
        "    actions = actions.unsqueeze(1)\n",
        "    rewards = rewards.unsqueeze(1)\n",
        "    dones= dones.unsqueeze(1)\n",
        "    #next_states = next_states.unsqueeze(1)\n",
        "\n",
        "    state_action_values=self.q_net(states).gather(1, actions)\n",
        "    next_action_values, _ =self.target_q_net(next_states).max(dim=1,keepdim=True)\n",
        "    next_action_values[dones]= 0.0\n",
        "\n",
        "    expected_state_action_values = rewards+ self.hparams.gamma*next_action_values\n",
        "    loss=self.hparams.loss_fn(state_action_values, expected_state_action_values)\n",
        "    self.log('episode/Q-Error',loss)\n",
        "    return loss\n",
        "\n",
        "  #training end \n",
        "  def training_epoch_end(self, training_step_outputs):\n",
        "\n",
        "    epsilon= max(\n",
        "      self.hparams.eps_end,\n",
        "      self.hparams.eps_start-self.current_epoch/self.hparams.eps_last_episode\n",
        "    )\n",
        "    self.play_episode(policy=self.policy, epsilon=epsilon)\n",
        "    self.log('episode/Return', self.env.return_queue[-1])\n",
        "\n",
        "    if self.current_epoch % self.hparams.sync_rate==0:\n",
        "      self.target_q_net.load_state_dict(self.q_net.state_dict())"
      ],
      "metadata": {
        "id": "l1ZbmtoKWN2o"
      },
      "execution_count": 27,
      "outputs": []
    }
  ]
}